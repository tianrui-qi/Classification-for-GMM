{
 "cells": [
  {
   "cell_type": "code",
   "execution_count": 1,
   "metadata": {
    "pycharm": {
     "name": "#%%\n"
    }
   },
   "outputs": [],
   "source": [
    "from Gaussian import Gaussian\n",
    "from EM import EM\n",
    "from NN import NN\n",
    "import numpy as np\n",
    "\n",
    "def complex_train(D, K):\n",
    "    method_number = 5\n",
    "\n",
    "    # parameters for neural networks\n",
    "    neuron_1     = {0: K}\n",
    "    neuron_2_10  = {0: 10, 1: K}\n",
    "    neuron_2_100 = {0: 100, 1: K}\n",
    "    act_func_1 = {0: NN.softmax}\n",
    "    act_func_2 = {0: NN.relu, 1: NN.softmax}\n",
    "\n",
    "    # store the result\n",
    "    accuracy = np.zeros(method_number)\n",
    "    time     = np.zeros(method_number)\n",
    "\n",
    "    # generate sample\n",
    "    G = Gaussian(D=D, K=K, background=False, index_para=[6000, 9000])\n",
    "\n",
    "    # train and test each method, [ EM, Q, C100, C10, C ]\n",
    "    method_set = [EM(K),\n",
    "                  NN(D, neuron_1, act_func_1, NN_type=\"QNN\"),\n",
    "                  NN(D, neuron_2_100, act_func_2, NN_type=\"CNN\"),\n",
    "                  NN(D, neuron_2_10, act_func_2, NN_type=\"CNN\"),\n",
    "                  NN(D, neuron_1, act_func_1, NN_type=\"CNN\")]\n",
    "    for j in range(method_number):\n",
    "        method = method_set[j]\n",
    "        if j == 0:\n",
    "            method.train(G.train_point)\n",
    "            method.order_correction(G.valid_point, G.valid_label)\n",
    "        else:\n",
    "            method.train(G.train_point, G.train_label,\n",
    "                         G.valid_point, G.valid_label, step_size=500)\n",
    "\n",
    "        accuracy[j] = method.test(G.test_point, G.test_label)[0] * 100\n",
    "        time[j]     = method.train_time\n",
    "\n",
    "    return accuracy, time   # EM, Q, C100, C10, C"
   ]
  },
  {
   "cell_type": "code",
   "execution_count": 2,
   "outputs": [],
   "source": [
    "# start training and store all the result\n",
    "\n",
    "accuracy_25, accuracy_35, accuracy_28, accuracy_38 = [], [], [], []\n",
    "time_25, time_35, time_28, time_38 = [], [], [], []\n",
    "\n",
    "sample_number = 50\n",
    "for _ in range(sample_number):\n",
    "    # D = 2, K = 5\n",
    "    accuracy, time = complex_train(D=2, K=5)\n",
    "    accuracy_25.append(accuracy)\n",
    "    time_25.append(time)\n",
    "\n",
    "    # D = 3, K = 5\n",
    "    accuracy, time = complex_train(D=3, K=5)\n",
    "    accuracy_35.append(accuracy)\n",
    "    time_35.append(time)\n",
    "\n",
    "    # D = 2, K = 8\n",
    "    accuracy, time = complex_train(D=2, K=8)\n",
    "    accuracy_28.append(accuracy)\n",
    "    time_28.append(time)\n",
    "\n",
    "    # D = 3, K = 8\n",
    "    accuracy, time = complex_train(D=3, K=8)\n",
    "    accuracy_38.append(accuracy)\n",
    "    time_38.append(time)"
   ],
   "metadata": {
    "collapsed": false,
    "pycharm": {
     "name": "#%%\n"
    }
   }
  },
  {
   "cell_type": "code",
   "execution_count": 3,
   "outputs": [
    {
     "name": "stdout",
     "output_type": "stream",
     "text": [
      "\n",
      "D=2, K=5\t\tAccuracy\t\t\t\tTime\n",
      "C(2-3)    :\t92.36\t+-\t7.89\t\t11.54\t+-\t5.04\n",
      "C(2-10-3) :\t95.36\t+-\t5.66\t\t23.28\t+-\t14.13\n",
      "C(2-100-3):\t95.47\t+-\t5.68\t\t62.71\t+-\t27.90\n",
      "Q(2-3)    :\t95.53\t+-\t5.66\t\t15.83\t+-\t6.70\n",
      "EM        :\t95.60\t+-\t5.65\t\t1.82\t+-\t1.06\n",
      "\n",
      "D=3, K=5\t\tAccuracy\t\t\t\tTime\n",
      "C(2-3)    :\t84.72\t+-\t5.53\t\t13.74\t+-\t5.75\n",
      "C(2-10-3) :\t92.15\t+-\t3.75\t\t24.79\t+-\t8.61\n",
      "C(2-100-3):\t92.54\t+-\t3.70\t\t71.80\t+-\t29.22\n",
      "Q(2-3)    :\t92.74\t+-\t3.67\t\t17.56\t+-\t7.36\n",
      "EM        :\t92.90\t+-\t3.64\t\t0.78\t+-\t0.93\n",
      "\n",
      "D=2, K=8\t\tAccuracy\t\t\t\tTime\n",
      "C(2-3)    :\t83.84\t+-\t10.32\t\t22.79\t+-\t8.01\n",
      "C(2-10-3) :\t87.90\t+-\t8.04\t\t47.62\t+-\t17.05\n",
      "C(2-100-3):\t88.06\t+-\t8.01\t\t122.59\t+-\t39.24\n",
      "Q(2-3)    :\t88.13\t+-\t7.98\t\t33.26\t+-\t10.97\n",
      "EM        :\t88.19\t+-\t7.97\t\t6.81\t+-\t1.59\n",
      "\n",
      "D=3, K=8\t\tAccuracy\t\t\t\tTime\n",
      "C(2-3)    :\t76.47\t+-\t6.31\t\t28.83\t+-\t10.60\n",
      "C(2-10-3) :\t82.45\t+-\t5.36\t\t62.62\t+-\t18.46\n",
      "C(2-100-3):\t82.68\t+-\t5.34\t\t151.84\t+-\t41.37\n",
      "Q(2-3)    :\t82.79\t+-\t5.31\t\t46.24\t+-\t13.33\n",
      "EM        :\t82.86\t+-\t5.32\t\t2.77\t+-\t2.11\n"
     ]
    }
   ],
   "source": [
    "# print result\n",
    "\n",
    "string = [\"EM        \",  \"Q(2-3)    \", \"C(2-100-3)\", \"C(2-10-3) \", \"C(2-3)    \"]\n",
    "\n",
    "print(\"\\nD=2, K=5\\t\\tAccuracy\\t\\t\\t\\tTime\")\n",
    "for i in range(4, -1, -1):\n",
    "    meanA, varianceA = np.mean(accuracy_25[:, i]), np.std(accuracy_25[:, i])\n",
    "    meanT, varianceT = np.mean(time_25[:, i]), np.std(time_25[:, i])\n",
    "    print(\"%s:\\t%2.2f\\t+-\\t%2.2f\\t\\t%2.2f\\t+-\\t%2.2f\" %\n",
    "          (string[i], meanA, varianceA, meanT, varianceT))\n",
    "\n",
    "print(\"\\nD=3, K=5\\t\\tAccuracy\\t\\t\\t\\tTime\")\n",
    "for i in range(4, -1, -1):\n",
    "    meanA, varianceA = np.mean(accuracy_35[:, i]), np.std(accuracy_35[:, i])\n",
    "    meanT, varianceT = np.mean(time_35[:, i]), np.std(time_35[:, i])\n",
    "    print(\"%s:\\t%2.2f\\t+-\\t%2.2f\\t\\t%2.2f\\t+-\\t%2.2f\" %\n",
    "          (string[i], meanA, varianceA, meanT, varianceT))\n",
    "\n",
    "print(\"\\nD=2, K=8\\t\\tAccuracy\\t\\t\\t\\tTime\")\n",
    "for i in range(4, -1, -1):\n",
    "    meanA, varianceA = np.mean(accuracy_28[:, i]), np.std(accuracy_28[:, i])\n",
    "    meanT, varianceT = np.mean(time_28[:, i]), np.std(time_28[:, i])\n",
    "    print(\"%s:\\t%2.2f\\t+-\\t%2.2f\\t\\t%2.2f\\t+-\\t%2.2f\" %\n",
    "          (string[i], meanA, varianceA, meanT, varianceT))\n",
    "\n",
    "print(\"\\nD=3, K=8\\t\\tAccuracy\\t\\t\\t\\tTime\")\n",
    "for i in range(4, -1, -1):\n",
    "    meanA, varianceA = np.mean(accuracy_38[:, i]), np.std(accuracy_38[:, i])\n",
    "    meanT, varianceT = np.mean(time_38[:, i]), np.std(time_38[:, i])\n",
    "    print(\"%s:\\t%2.2f\\t+-\\t%2.2f\\t\\t%2.2f\\t+-\\t%2.2f\" %\n",
    "          (string[i], meanA, varianceA, meanT, varianceT))"
   ],
   "metadata": {
    "collapsed": false,
    "pycharm": {
     "name": "#%%\n"
    }
   }
  }
 ],
 "metadata": {
  "kernelspec": {
   "display_name": "Python 3 (ipykernel)",
   "language": "python",
   "name": "python3"
  },
  "language_info": {
   "codemirror_mode": {
    "name": "ipython",
    "version": 3
   },
   "file_extension": ".py",
   "mimetype": "text/x-python",
   "name": "python",
   "nbconvert_exporter": "python",
   "pygments_lexer": "ipython3",
   "version": "3.9.12"
  }
 },
 "nbformat": 4,
 "nbformat_minor": 1
}