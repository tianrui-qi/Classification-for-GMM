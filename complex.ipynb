{
 "cells": [
  {
   "cell_type": "code",
   "execution_count": 1,
   "metadata": {
    "pycharm": {
     "name": "#%%\n"
    }
   },
   "outputs": [],
   "source": [
    "from Gaussian import Gaussian\n",
    "from EM import EM\n",
    "from NN import NN\n",
    "import numpy as np\n",
    "\n",
    "def complex_train(D, K):\n",
    "    method_number = 5\n",
    "\n",
    "    # parameters for neural networks\n",
    "    neuron_1     = {0: K}\n",
    "    neuron_2_10  = {0: 10, 1: K}\n",
    "    neuron_2_100 = {0: 100, 1: K}\n",
    "    act_func_1 = {0: NN.softmax}\n",
    "    act_func_2 = {0: NN.relu, 1: NN.softmax}\n",
    "\n",
    "    # store the result\n",
    "    accuracy = np.zeros(method_number)\n",
    "    time     = np.zeros(method_number)\n",
    "\n",
    "    # generate sample\n",
    "    G = Gaussian(D=D, K=K, background=False, index_para=[6000, 9000])\n",
    "\n",
    "    # train and test each method, [ EM, Q, C100, C10, C ]\n",
    "    method_set = [EM(K),\n",
    "                  NN(D, neuron_1, act_func_1, NN_type=\"QNN\"),\n",
    "                  NN(D, neuron_2_100, act_func_2, NN_type=\"CNN\"),\n",
    "                  NN(D, neuron_2_10, act_func_2, NN_type=\"CNN\"),\n",
    "                  NN(D, neuron_1, act_func_1, NN_type=\"CNN\")]\n",
    "    for j in range(method_number):\n",
    "        method = method_set[j]\n",
    "        if j == 0:\n",
    "            method.train(G.train_point)\n",
    "            method.order_correction(G.valid_point, G.valid_label)\n",
    "        else:\n",
    "            method.train(G.train_point, G.train_label,\n",
    "                         G.valid_point, G.valid_label, step_size=500)\n",
    "\n",
    "        accuracy[j] = method.test(G.test_point, G.test_label)[0] * 100\n",
    "        time[j]     = method.train_time\n",
    "\n",
    "    return accuracy, time   # EM, Q, C100, C10, C"
   ]
  },
  {
   "cell_type": "code",
   "execution_count": 2,
   "outputs": [],
   "source": [
    "# start training and store all the result\n",
    "\n",
    "accuracy_25, accuracy_35, accuracy_28, accuracy_38 = [], [], [], []\n",
    "time_25, time_35, time_28, time_38 = [], [], [], []\n",
    "\n",
    "sample_number = 50\n",
    "for _ in range(sample_number):\n",
    "    # D = 2, K = 5\n",
    "    accuracy, time = complex_train(D=2, K=5)\n",
    "    accuracy_25.append(accuracy)\n",
    "    time_25.append(time)\n",
    "\n",
    "    # D = 3, K = 5\n",
    "    accuracy, time = complex_train(D=3, K=5)\n",
    "    accuracy_35.append(accuracy)\n",
    "    time_35.append(time)\n",
    "\n",
    "    # D = 2, K = 8\n",
    "    accuracy, time = complex_train(D=2, K=8)\n",
    "    accuracy_28.append(accuracy)\n",
    "    time_28.append(time)\n",
    "\n",
    "    # D = 3, K = 8\n",
    "    accuracy, time = complex_train(D=3, K=8)\n",
    "    accuracy_38.append(accuracy)\n",
    "    time_38.append(time)"
   ],
   "metadata": {
    "collapsed": false,
    "pycharm": {
     "name": "#%%\n"
    }
   }
  },
  {
   "cell_type": "code",
   "execution_count": 3,
   "outputs": [
    {
     "name": "stdout",
     "output_type": "stream",
     "text": [
      "\n",
      "D=2, K=5       Accuracy            Time\n",
      "C(2-3)    : 92.36 +-  7.89     11.5 +-  5.0\n",
      "C(2-10-3) : 95.36 +-  5.66     23.3 +- 14.1\n",
      "C(2-100-3): 95.47 +-  5.68     62.7 +- 27.9\n",
      "Q(2-3)    : 95.53 +-  5.66     15.8 +-  6.7\n",
      "EM        : 95.60 +-  5.65      1.8 +-  1.1\n",
      "\n",
      "D=3, K=5       Accuracy            Time\n",
      "C(2-3)    : 84.72 +-  5.53     13.7 +-  5.7\n",
      "C(2-10-3) : 92.15 +-  3.75     24.8 +-  8.6\n",
      "C(2-100-3): 92.54 +-  3.70     71.8 +- 29.2\n",
      "Q(2-3)    : 92.74 +-  3.67     17.6 +-  7.4\n",
      "EM        : 92.90 +-  3.64      0.8 +-  0.9\n",
      "\n",
      "D=2, K=8       Accuracy            Time\n",
      "C(2-3)    : 83.84 +- 10.32     22.8 +-  8.0\n",
      "C(2-10-3) : 87.90 +-  8.04     47.6 +- 17.0\n",
      "C(2-100-3): 88.06 +-  8.01    122.6 +- 39.2\n",
      "Q(2-3)    : 88.13 +-  7.98     33.3 +- 11.0\n",
      "EM        : 88.19 +-  7.97      6.8 +-  1.6\n",
      "\n",
      "D=3, K=8       Accuracy            Time\n",
      "C(2-3)    : 76.47 +-  6.31     28.8 +- 10.6\n",
      "C(2-10-3) : 82.45 +-  5.36     62.6 +- 18.5\n",
      "C(2-100-3): 82.68 +-  5.34    151.8 +- 41.4\n",
      "Q(2-3)    : 82.79 +-  5.31     46.2 +- 13.3\n",
      "EM        : 82.86 +-  5.32      2.8 +-  2.1\n"
     ]
    }
   ],
   "source": [
    "# print result\n",
    "\n",
    "string = [\"EM        \",  \"Q(2-3)    \", \"C(2-100-3)\", \"C(2-10-3) \", \"C(2-3)    \"]\n",
    "\n",
    "print(\"\\nD=2, K=5       Accuracy            Time\")\n",
    "for i in range(4, -1, -1):\n",
    "    meanA, varianceA = np.mean(accuracy_35[:, i]), np.std(accuracy_35[:, i])\n",
    "    meanT, varianceT = np.mean(time_25[:, i]), np.std(time_25[:, i])\n",
    "    print(\"{}: {:2.2f} +- {:>5.2f}    {:>5.1f} +- {:>4.1f}\"\n",
    "          .format(string[i], meanA, varianceA, meanT, varianceT))\n",
    "\n",
    "print(\"\\nD=3, K=5       Accuracy            Time\")\n",
    "for i in range(4, -1, -1):\n",
    "    meanA, varianceA = np.mean(accuracy_38[:, i]), np.std(accuracy_38[:, i])\n",
    "    meanT, varianceT = np.mean(time_35[:, i]), np.std(time_35[:, i])\n",
    "    print(\"{}: {:2.2f} +- {:>5.2f}    {:>5.1f} +- {:>4.1f}\"\n",
    "          .format(string[i], meanA, varianceA, meanT, varianceT))\n",
    "\n",
    "print(\"\\nD=2, K=8       Accuracy            Time\")\n",
    "for i in range(4, -1, -1):\n",
    "    meanA, varianceA = np.mean(accuracy_25[:, i]), np.std(accuracy_25[:, i])\n",
    "    meanT, varianceT = np.mean(time_28[:, i]), np.std(time_28[:, i])\n",
    "    print(\"{}: {:2.2f} +- {:>5.2f}    {:>5.1f} +- {:>4.1f}\"\n",
    "          .format(string[i], meanA, varianceA, meanT, varianceT))\n",
    "\n",
    "print(\"\\nD=3, K=8       Accuracy            Time\")\n",
    "for i in range(4, -1, -1):\n",
    "    meanA, varianceA = np.mean(accuracy_28[:, i]), np.std(accuracy_28[:, i])\n",
    "    meanT, varianceT = np.mean(time_38[:, i]), np.std(time_38[:, i])\n",
    "    print(\"{}: {:2.2f} +- {:>5.2f}    {:>5.1f} +- {:>4.1f}\"\n",
    "          .format(string[i], meanA, varianceA, meanT, varianceT))"
   ],
   "metadata": {
    "collapsed": false,
    "pycharm": {
     "name": "#%%\n"
    }
   }
  }
 ],
 "metadata": {
  "kernelspec": {
   "display_name": "Python 3 (ipykernel)",
   "language": "python",
   "name": "python3"
  },
  "language_info": {
   "codemirror_mode": {
    "name": "ipython",
    "version": 3
   },
   "file_extension": ".py",
   "mimetype": "text/x-python",
   "name": "python",
   "nbconvert_exporter": "python",
   "pygments_lexer": "ipython3",
   "version": "3.9.12"
  }
 },
 "nbformat": 4,
 "nbformat_minor": 1
}