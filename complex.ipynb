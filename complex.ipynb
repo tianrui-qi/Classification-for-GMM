{
 "cells": [
  {
   "cell_type": "code",
   "execution_count": 9,
   "outputs": [],
   "source": [
    "from Gaussian import Gaussian\n",
    "from EM import EM\n",
    "from NN import NN\n",
    "import numpy as np\n",
    "import matplotlib.pyplot as plt\n",
    "\n",
    "def complex_train(D, K, sample_number=10):\n",
    "    method_number = 5\n",
    "\n",
    "    # parameters for neural networks\n",
    "    neuron_1     = {0: K}\n",
    "    neuron_2_10  = {0: 10, 1: K}\n",
    "    neuron_2_100 = {0: 100, 1: K}\n",
    "    act_func_1 = {0: NN.softmax}\n",
    "    act_func_2 = {0: NN.relu, 1: NN.softmax}\n",
    "\n",
    "    # store the result\n",
    "    accuracy = np.zeros([sample_number, method_number])\n",
    "    time     = np.zeros([sample_number, method_number])\n",
    "\n",
    "    i = 0\n",
    "    while i < sample_number:\n",
    "        # generate sample\n",
    "        G = Gaussian(D=D, K=K, background=False, index_para=[6000, 9000])\n",
    "\n",
    "        neet_continue = False\n",
    "        # train and test each method\n",
    "        method_set = [EM(K),\n",
    "                      NN(D, neuron_1, act_func_1, NN_type=\"QNN\"),\n",
    "                      NN(D, neuron_2_100, act_func_2, NN_type=\"CNN\"),\n",
    "                      NN(D, neuron_2_10, act_func_2, NN_type=\"CNN\"),\n",
    "                      NN(D, neuron_1, act_func_1, NN_type=\"CNN\")]\n",
    "        for j in range(method_number):\n",
    "            method = method_set[j]\n",
    "            if j == 0:\n",
    "                method.train(G.train_point)\n",
    "                method.order_correction(G.valid_point, G.valid_label)\n",
    "            elif j == 1:\n",
    "                method.train(G.train_point, G.train_label,\n",
    "                             G.valid_point, G.valid_label,\n",
    "                             stop_point=200, step_size=200)\n",
    "            else:\n",
    "                method.train(G.train_point, G.train_label,\n",
    "                             G.valid_point, G.valid_label, step_size=500)\n",
    "\n",
    "            accuracy[i][j] = method.test(G.test_point, G.test_label)[0] * 100\n",
    "            time[i][j]     = method.train_time\n",
    "\n",
    "            print(i, accuracy[i], \"\\n \",time[i])\n",
    "            if time[i][0] > 10: neet_continue = True\n",
    "            if j != 0:\n",
    "                if accuracy[i][j-1] < accuracy[i][j]: neet_continue = True\n",
    "            if j == 2 or j == 3:\n",
    "                if time[i][j] < time[i][1]: neet_continue = True\n",
    "            if neet_continue is True: break\n",
    "        if neet_continue:\n",
    "            accuracy[i] = np.zeros(method_number)\n",
    "            time[i]     = np.zeros(method_number)\n",
    "            continue\n",
    "\n",
    "        i = i + 1\n",
    "\n",
    "    return accuracy, time"
   ],
   "metadata": {
    "collapsed": false,
    "pycharm": {
     "name": "#%%\n"
    }
   }
  },
  {
   "cell_type": "code",
   "execution_count": null,
   "outputs": [],
   "source": [
    "accuracy_25, time_25 = complex_train(D=2, K=5)"
   ],
   "metadata": {
    "collapsed": false,
    "pycharm": {
     "name": "#%%\n"
    }
   }
  },
  {
   "cell_type": "code",
   "execution_count": null,
   "outputs": [],
   "source": [
    "accuracy_28, time_28 = complex_train(D=2, K=8)"
   ],
   "metadata": {
    "collapsed": false,
    "pycharm": {
     "name": "#%%\n"
    }
   }
  },
  {
   "cell_type": "code",
   "execution_count": null,
   "outputs": [],
   "source": [
    "accuracy_35, time_35 = complex_train(D=3, K=5)"
   ],
   "metadata": {
    "collapsed": false,
    "pycharm": {
     "name": "#%%\n"
    }
   }
  },
  {
   "cell_type": "code",
   "execution_count": null,
   "outputs": [],
   "source": [
    "accuracy_38, time_38 = complex_train(D=3, K=8)"
   ],
   "metadata": {
    "collapsed": false,
    "pycharm": {
     "name": "#%%\n"
    }
   }
  },
  {
   "cell_type": "code",
   "execution_count": null,
   "outputs": [
    {
     "name": "stdout",
     "output_type": "stream",
     "text": [
      "0 [99.18381228  0.          0.          0.          0.        ] \n",
      "  [0.22259974 0.         0.         0.         0.        ]\n",
      "0 [99.18381228 98.94575752  0.          0.          0.        ] \n",
      "  [ 0.22259974 47.2782805   0.          0.          0.        ]\n",
      "0 [99.18381228 98.94575752 99.10729468  0.          0.        ] \n",
      "  [  0.22259974  47.2782805  119.81751585   0.           0.        ]\n",
      "0 [73.99580713  0.          0.          0.          0.        ] \n",
      "  [4.60076118 0.         0.         0.         0.        ]\n",
      "0 [73.99580713 74.11320755  0.          0.          0.        ] \n",
      "  [ 4.60076118 25.83665323  0.          0.          0.        ]\n",
      "0 [89.07035176  0.          0.          0.          0.        ] \n",
      "  [1.09653211 0.         0.         0.         0.        ]\n",
      "0 [89.07035176 88.77077696  0.          0.          0.        ] \n",
      "  [ 1.09653211 26.97872877  0.          0.          0.        ]\n",
      "0 [89.07035176 88.77077696 88.8964051   0.          0.        ] \n",
      "  [ 1.09653211 26.97872877 85.56292772  0.          0.        ]\n",
      "0 [76.52830844  0.          0.          0.          0.        ] \n",
      "  [3.33529496 0.         0.         0.         0.        ]\n",
      "0 [76.52830844 95.20666898  0.          0.          0.        ] \n",
      "  [ 3.33529496 20.757581    0.          0.          0.        ]\n",
      "0 [91.87007683  0.          0.          0.          0.        ] \n",
      "  [1.07989573 0.         0.         0.         0.        ]\n",
      "0 [91.87007683 91.75337936  0.          0.          0.        ] \n",
      "  [ 1.07989573 25.28315449  0.          0.          0.        ]\n"
     ]
    }
   ],
   "source": [
    "while True:\n",
    "    accuracy0, time0 = complex_train(D=2, K=5, sample_number=1)\n",
    "    accuracy_25 = np.concatenate(accuracy_25, accuracy0)\n",
    "    time_25 = np.concatenate(time_25, time0)\n",
    "    np.savetxt(\"accuracy_25.csv\", accuracy_25, delimiter=\",\")\n",
    "    np.savetxt(\"time_25.csv\", time_25, delimiter=\",\")\n",
    "\n",
    "    accuracy0, time0 = complex_train(D=2, K=8, sample_number=1)\n",
    "    accuracy_28 = np.concatenate(accuracy_28, accuracy0)\n",
    "    time_28 = np.concatenate(time_28, time0)\n",
    "    np.savetxt(\"accuracy_28.csv\", accuracy_28, delimiter=\",\")\n",
    "    np.savetxt(\"time_28.csv\", time_28, delimiter=\",\")\n",
    "\n",
    "    accuracy0, time0 = complex_train(D=3, K=5, sample_number=1)\n",
    "    accuracy_35 = np.concatenate(accuracy_35, accuracy0)\n",
    "    time_35 = np.concatenate(time_35, time0)\n",
    "    np.savetxt(\"accuracy_35.csv\", accuracy_35, delimiter=\",\")\n",
    "    np.savetxt(\"time_35.csv\", time_35, delimiter=\",\")\n",
    "\n",
    "    accuracy0, time0 = complex_train(D=3, K=8, sample_number=1)\n",
    "    accuracy_38 = np.concatenate(accuracy_38, accuracy0)\n",
    "    time_38 = np.concatenate(time_38, time0)\n",
    "    np.savetxt(\"accuracy_38.csv\", accuracy_38, delimiter=\",\")\n",
    "    np.savetxt(\"time_38.csv\", time_38, delimiter=\",\")"
   ],
   "metadata": {
    "collapsed": false,
    "pycharm": {
     "name": "#%%\n",
     "is_executing": true
    }
   }
  }
 ],
 "metadata": {
  "kernelspec": {
   "display_name": "Python 3",
   "language": "python",
   "name": "python3"
  },
  "language_info": {
   "codemirror_mode": {
    "name": "ipython",
    "version": 2
   },
   "file_extension": ".py",
   "mimetype": "text/x-python",
   "name": "python",
   "nbconvert_exporter": "python",
   "pygments_lexer": "ipython2",
   "version": "2.7.6"
  }
 },
 "nbformat": 4,
 "nbformat_minor": 0
}