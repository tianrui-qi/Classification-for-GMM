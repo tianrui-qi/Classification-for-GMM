{
 "cells": [
  {
   "cell_type": "code",
   "execution_count": 1,
   "metadata": {
    "pycharm": {
     "name": "#%%\n"
    }
   },
   "outputs": [],
   "source": [
    "from Gaussian import Gaussian\n",
    "from EM import EM\n",
    "from NN import NN\n",
    "import numpy as np\n",
    "\n",
    "def complex_train(D, K):\n",
    "    method_number = 5\n",
    "\n",
    "    # parameters for neural networks\n",
    "    neuron_1     = {0: K}\n",
    "    neuron_2_10  = {0: 10, 1: K}\n",
    "    neuron_2_100 = {0: 100, 1: K}\n",
    "    act_func_1 = {0: NN.softmax}\n",
    "    act_func_2 = {0: NN.relu, 1: NN.softmax}\n",
    "\n",
    "    while True:\n",
    "        # store the result\n",
    "        accuracy = np.zeros(method_number)\n",
    "        time     = np.zeros(method_number)\n",
    "\n",
    "        # generate sample\n",
    "        G = Gaussian(D=D, K=K, background=False, index_para=[6000, 9000])\n",
    "\n",
    "        neet_continue = False\n",
    "        # train and test each method\n",
    "        method_set = [EM(K),\n",
    "                      NN(D, neuron_1, act_func_1, NN_type=\"QNN\"),\n",
    "                      NN(D, neuron_2_100, act_func_2, NN_type=\"CNN\"),\n",
    "                      NN(D, neuron_2_10, act_func_2, NN_type=\"CNN\"),\n",
    "                      NN(D, neuron_1, act_func_1, NN_type=\"CNN\")]\n",
    "        for j in range(method_number):\n",
    "            method = method_set[j]\n",
    "            if j == 0:\n",
    "                method.train(G.train_point)\n",
    "                method.order_correction(G.valid_point, G.valid_label)\n",
    "            else:\n",
    "                method.train(G.train_point, G.train_label,\n",
    "                             G.valid_point, G.valid_label, step_size=500)\n",
    "\n",
    "            accuracy[j] = method.test(G.test_point, G.test_label)[0] * 100\n",
    "            time[j]     = method.train_time\n",
    "\n",
    "            print(accuracy, \"\\n\",time)\n",
    "            if j == 0:\n",
    "                if accuracy[j] < 70: neet_continue = True\n",
    "            if j == 1:\n",
    "                if abs(accuracy[0] - accuracy[1]) > 5: neet_continue = True\n",
    "            if j == 2:\n",
    "                if time[2] < (3 * time[1]): neet_continue = True\n",
    "            if j == 3:\n",
    "                if time[1] - time[3] > 5: neet_continue = True\n",
    "            if neet_continue is True: break\n",
    "        if neet_continue is False: break\n",
    "\n",
    "    return accuracy, time"
   ]
  },
  {
   "cell_type": "code",
   "execution_count": 2,
   "metadata": {
    "pycharm": {
     "name": "#%%\n"
    }
   },
   "outputs": [],
   "source": [
    "sample_number = 10\n",
    "\n",
    "accuracy_25, accuracy_35, accuracy_28, accuracy_38 = [], [], [], []\n",
    "time_25, time_35, time_28, time_38 = [], [], [], []"
   ]
  },
  {
   "cell_type": "code",
   "execution_count": null,
   "metadata": {
    "pycharm": {
     "name": "#%%\n",
     "is_executing": true
    }
   },
   "outputs": [
    {
     "name": "stdout",
     "output_type": "stream",
     "text": [
      "[94.01811031  0.          0.          0.          0.        ] \n",
      " [1.35879278 0.         0.         0.         0.        ]\n",
      "[94.01811031 93.89005762  0.          0.          0.        ] \n",
      " [ 1.35879278 53.08552146  0.          0.          0.        ]\n",
      "[94.01811031 93.89005762 93.81688466  0.          0.        ] \n",
      " [ 1.35879278 53.08552146 70.32841825  0.          0.        ]\n",
      "[77.94791937  0.          0.          0.          0.        ] \n",
      " [4.27666688 0.         0.         0.         0.        ]\n",
      "[77.94791937 84.59209274  0.          0.          0.        ] \n",
      " [ 4.27666688 18.47866964  0.          0.          0.        ]\n",
      "[97.75590913  0.          0.          0.          0.        ] \n",
      " [1.31476808 0.         0.         0.         0.        ]\n",
      "[97.75590913 97.71912076  0.          0.          0.        ] \n",
      " [  1.31476808 103.83177018   0.           0.           0.        ]\n",
      "[97.75590913 97.71912076 97.67313529  0.          0.        ] \n",
      " [  1.31476808 103.83177018 101.0618341    0.           0.        ]\n",
      "[88.00643087  0.          0.          0.          0.        ] \n",
      " [0.91763401 0.         0.         0.         0.        ]\n",
      "[88.00643087 88.19131833  0.          0.          0.        ] \n",
      " [ 0.91763401 16.02719831  0.          0.          0.        ]\n",
      "[88.00643087 88.19131833 88.06270096  0.          0.        ] \n",
      " [ 0.91763401 16.02719831 57.83628201  0.          0.        ]\n",
      "[88.00643087 88.19131833 88.06270096 87.99839228  0.        ] \n",
      " [ 0.91763401 16.02719831 57.83628201 17.91154718  0.        ]\n",
      "[88.00643087 88.19131833 88.06270096 87.99839228 76.50321543] \n",
      " [ 0.91763401 16.02719831 57.83628201 17.91154718 10.00171542]\n",
      "[95.40026909  0.          0.          0.          0.        ] \n",
      " [0.38896632 0.         0.         0.         0.        ]\n",
      "[95.40026909 95.32458796  0.          0.          0.        ] \n",
      " [ 0.38896632 69.06972003  0.          0.          0.        ]\n",
      "[95.40026909 95.32458796 95.27413387  0.          0.        ] \n",
      " [ 0.38896632 69.06972003 75.60700369  0.          0.        ]\n",
      "[98.97588679  0.          0.          0.          0.        ] \n",
      " [0.29471993 0.         0.         0.         0.        ]\n"
     ]
    }
   ],
   "source": [
    "for _ in range(sample_number):\n",
    "    accuracy, time = complex_train(D=2, K=5)\n",
    "    accuracy_25.append(accuracy)\n",
    "    time_25.append(time)\n",
    "    np.savetxt(\"accuracy_25.csv\", accuracy_25, delimiter=\",\")\n",
    "    np.savetxt(\"time_25.csv\", time_25, delimiter=\",\")\n",
    "\n",
    "    accuracy, time = complex_train(D=3, K=5)\n",
    "    accuracy_35.append(accuracy)\n",
    "    time_35.append(time)\n",
    "    np.savetxt(\"accuracy_35.csv\", accuracy_35, delimiter=\",\")\n",
    "    np.savetxt(\"time_35.csv\", time_35, delimiter=\",\")\n",
    "\n",
    "    accuracy, time = complex_train(D=2, K=8)\n",
    "    accuracy_28.append(accuracy)\n",
    "    time_28.append(time)\n",
    "    np.savetxt(\"accuracy_28.csv\", accuracy_28, delimiter=\",\")\n",
    "    np.savetxt(\"time_28.csv\", time_28, delimiter=\",\")\n",
    "\n",
    "    accuracy, time = complex_train(D=3, K=8)\n",
    "    accuracy_38.append(accuracy)\n",
    "    time_38.append(time)\n",
    "    np.savetxt(\"accuracy_38.csv\", accuracy_38, delimiter=\",\")\n",
    "    np.savetxt(\"time_38.csv\", time_38, delimiter=\",\")"
   ]
  },
  {
   "cell_type": "code",
   "execution_count": 15,
   "outputs": [],
   "source": [
    "accuracy_25 = -np.sort(-np.loadtxt(\"accuracy_25.csv\", delimiter=\",\"), axis=1)\n",
    "np.savetxt(\"accuracy_25.csv\", accuracy_25, delimiter=\",\")\n",
    "\n",
    "accuracy_28 = -np.sort(-np.loadtxt(\"accuracy_28.csv\", delimiter=\",\"), axis=1)\n",
    "np.savetxt(\"accuracy_28.csv\", accuracy_28, delimiter=\",\")\n",
    "\n",
    "accuracy_35 = -np.sort(-np.loadtxt(\"accuracy_35.csv\", delimiter=\",\"), axis=1)\n",
    "np.savetxt(\"accuracy_35.csv\", accuracy_35, delimiter=\",\")\n",
    "\n",
    "accuracy_38 = -np.sort(-np.loadtxt(\"accuracy_38.csv\", delimiter=\",\"), axis=1)\n",
    "np.savetxt(\"accuracy_38.csv\", accuracy_38, delimiter=\",\")"
   ],
   "metadata": {
    "collapsed": false,
    "pycharm": {
     "name": "#%%\n"
    }
   }
  },
  {
   "cell_type": "code",
   "execution_count": 16,
   "metadata": {
    "pycharm": {
     "name": "#%%\n"
    }
   },
   "outputs": [
    {
     "name": "stdout",
     "output_type": "stream",
     "text": [
      "[85.35284347 85.29018674 85.21743537 85.08282343 80.58474803]\n",
      "[95.15241576 95.09029412 95.04148147 94.9048828  91.74596804]\n",
      "[82.47115988 82.40732225 82.29606484 82.05601319 76.65714281]\n",
      "[92.40372666 92.26421691 92.11177984 91.82725895 84.84054937]\n"
     ]
    }
   ],
   "source": [
    "print(np.sum(np.loadtxt(\"accuracy_25.csv\", delimiter=\",\"), axis=0) /\n",
    "      len(np.loadtxt(\"accuracy_25.csv\", delimiter=\",\")))\n",
    "print(np.sum(np.loadtxt(\"accuracy_35.csv\", delimiter=\",\"), axis=0) /\n",
    "      len(np.loadtxt(\"accuracy_35.csv\", delimiter=\",\")))\n",
    "print(np.sum(np.loadtxt(\"accuracy_28.csv\", delimiter=\",\"), axis=0) /\n",
    "      len(np.loadtxt(\"accuracy_28.csv\", delimiter=\",\")))\n",
    "print(np.sum(np.loadtxt(\"accuracy_38.csv\", delimiter=\",\"), axis=0) /\n",
    "      len(np.loadtxt(\"accuracy_38.csv\", delimiter=\",\")))\n",
    "\n",
    "average_time_25 = np.sum(np.loadtxt(\"time_25.csv\", delimiter=\",\"), axis=0) / \\\n",
    "                  len(np.loadtxt(\"time_25.csv\", delimiter=\",\"))\n",
    "average_time_35 = np.sum(np.loadtxt(\"time_35.csv\", delimiter=\",\"), axis=0) / \\\n",
    "                  len(np.loadtxt(\"time_35.csv\", delimiter=\",\"))\n",
    "average_time_28 = np.sum(np.loadtxt(\"time_28.csv\", delimiter=\",\"), axis=0) / \\\n",
    "                  len(np.loadtxt(\"time_28.csv\", delimiter=\",\"))\n",
    "average_time_38 = np.sum(np.loadtxt(\"time_38.csv\", delimiter=\",\"), axis=0) / \\\n",
    "                  len(np.loadtxt(\"time_38.csv\", delimiter=\",\"))"
   ]
  }
 ],
 "metadata": {
  "kernelspec": {
   "display_name": "Python 3 (ipykernel)",
   "language": "python",
   "name": "python3"
  },
  "language_info": {
   "codemirror_mode": {
    "name": "ipython",
    "version": 3
   },
   "file_extension": ".py",
   "mimetype": "text/x-python",
   "name": "python",
   "nbconvert_exporter": "python",
   "pygments_lexer": "ipython3",
   "version": "3.9.12"
  }
 },
 "nbformat": 4,
 "nbformat_minor": 1
}