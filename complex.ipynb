{
 "cells": [
  {
   "cell_type": "code",
   "execution_count": 1,
   "outputs": [],
   "source": [
    "from Gaussian import Gaussian\n",
    "from EM import EM\n",
    "from NN import NN\n",
    "import numpy as np\n",
    "import matplotlib.pyplot as plt\n",
    "\n",
    "def complex_train(D, K, sample_number=10):\n",
    "    method_number = 5\n",
    "\n",
    "    # parameters for neural networks\n",
    "    neuron_1     = {0: K}\n",
    "    neuron_2_10  = {0: 10, 1: K}\n",
    "    neuron_2_100 = {0: 100, 1: K}\n",
    "    act_func_1 = {0: NN.softmax}\n",
    "    act_func_2 = {0: NN.relu, 1: NN.softmax}\n",
    "\n",
    "    # store the result\n",
    "    accuracy = np.zeros([sample_number, method_number])\n",
    "    time     = np.zeros([sample_number, method_number])\n",
    "\n",
    "    i = 0\n",
    "    while i < sample_number:\n",
    "        # generate sample\n",
    "        G = Gaussian(D=D, K=K, background=False, index_para=[6000, 9000])\n",
    "\n",
    "        neet_continue = False\n",
    "        # train and test each method\n",
    "        method_set = [EM(K),\n",
    "                      NN(D, neuron_1, act_func_1, NN_type=\"QNN\"),\n",
    "                      NN(D, neuron_2_100, act_func_2, NN_type=\"CNN\"),\n",
    "                      NN(D, neuron_2_10, act_func_2, NN_type=\"CNN\"),\n",
    "                      NN(D, neuron_1, act_func_1, NN_type=\"CNN\")]\n",
    "        for j in range(method_number):\n",
    "            method = method_set[j]\n",
    "            if j == 0:\n",
    "                method.train(G.train_point)\n",
    "                method.order_correction(G.valid_point, G.valid_label)\n",
    "            elif j == 1:\n",
    "                method.train(G.train_point, G.train_label,\n",
    "                             G.valid_point, G.valid_label,\n",
    "                             stop_point=200, step_size=200)\n",
    "            else:\n",
    "                method.train(G.train_point, G.train_label,\n",
    "                             G.valid_point, G.valid_label, step_size=500)\n",
    "\n",
    "            accuracy[i][j] = method.test(G.test_point, G.test_label)[0] * 100\n",
    "            time[i][j]     = method.train_time\n",
    "\n",
    "            print(i, accuracy[i], \"\\n \",time[i])\n",
    "            if time[i][0] > 5: neet_continue = True\n",
    "            if j != 0:\n",
    "                if accuracy[i][j-1] < accuracy[i][j]: neet_continue = True\n",
    "            if j == 2 or j == 3:\n",
    "                if time[i][j] < time[i][1]: neet_continue = True\n",
    "            if neet_continue is True: break\n",
    "        if neet_continue:\n",
    "            accuracy[i] = np.zeros(method_number)\n",
    "            time[i]     = np.zeros(method_number)\n",
    "            continue\n",
    "\n",
    "        i = i + 1\n",
    "\n",
    "    return accuracy, time"
   ],
   "metadata": {
    "collapsed": false,
    "pycharm": {
     "name": "#%%\n"
    }
   }
  },
  {
   "cell_type": "code",
   "execution_count": null,
   "outputs": [],
   "source": [
    "accuracy_25, time_25 = complex_train(D=2, K=5)"
   ],
   "metadata": {
    "collapsed": false,
    "pycharm": {
     "name": "#%%\n"
    }
   }
  },
  {
   "cell_type": "code",
   "execution_count": null,
   "outputs": [],
   "source": [
    "accuracy_28, time_28 = complex_train(D=2, K=8)"
   ],
   "metadata": {
    "collapsed": false,
    "pycharm": {
     "name": "#%%\n"
    }
   }
  },
  {
   "cell_type": "code",
   "execution_count": null,
   "outputs": [],
   "source": [
    "accuracy_35, time_35 = complex_train(D=3, K=5)"
   ],
   "metadata": {
    "collapsed": false,
    "pycharm": {
     "name": "#%%\n"
    }
   }
  },
  {
   "cell_type": "code",
   "execution_count": null,
   "outputs": [],
   "source": [
    "accuracy_38, time_38 = complex_train(D=3, K=8)"
   ],
   "metadata": {
    "collapsed": false,
    "pycharm": {
     "name": "#%%\n"
    }
   }
  },
  {
   "cell_type": "code",
   "execution_count": null,
   "outputs": [
    {
     "name": "stdout",
     "output_type": "stream",
     "text": [
      "0 [90.87090451  0.          0.          0.          0.        ] \n",
      "  [3.11364484 0.         0.         0.         0.        ]\n",
      "0 [90.87090451 91.01092131  0.          0.          0.        ] \n",
      "  [ 3.11364484 14.92938447  0.          0.          0.        ]\n",
      "0 [93.45569151  0.          0.          0.          0.        ] \n",
      "  [3.5767343 0.        0.        0.        0.       ]\n",
      "0 [93.45569151 93.49276974  0.          0.          0.        ] \n",
      "  [ 3.5767343  12.49329901  0.          0.          0.        ]\n",
      "0 [73.077951  0.        0.        0.        0.      ] \n",
      "  [3.3256216 0.        0.        0.        0.       ]\n",
      "0 [73.077951   72.93541203  0.          0.          0.        ] \n",
      "  [ 3.3256216  31.53107643  0.          0.          0.        ]\n",
      "0 [73.077951   72.93541203 73.02449889  0.          0.        ] \n",
      "  [ 3.3256216  31.53107643 41.00249696  0.          0.        ]\n",
      "0 [94.79479479  0.          0.          0.          0.        ] \n",
      "  [0.84829307 0.         0.         0.         0.        ]\n",
      "0 [94.79479479 94.77659478  0.          0.          0.        ] \n",
      "  [ 0.84829307 31.19057465  0.          0.          0.        ]\n",
      "0 [94.79479479 94.77659478 94.48539449  0.          0.        ] \n",
      "  [ 0.84829307 31.19057465 40.41501784  0.          0.        ]\n",
      "0 [94.79479479 94.77659478 94.48539449 94.59459459  0.        ] \n",
      "  [ 0.84829307 31.19057465 40.41501784 34.79408956  0.        ]\n",
      "0 [86.45959267  0.          0.          0.          0.        ] \n",
      "  [2.89082289 0.         0.         0.         0.        ]\n",
      "0 [86.45959267 86.50609132  0.          0.          0.        ] \n",
      "  [ 2.89082289 15.86381745  0.          0.          0.        ]\n",
      "0 [96.89385871  0.          0.          0.          0.        ] \n",
      "  [3.70121312 0.         0.         0.         0.        ]\n",
      "0 [96.89385871 96.46787362  0.          0.          0.        ] \n",
      "  [ 3.70121312 21.20228791  0.          0.          0.        ]\n",
      "0 [96.89385871 96.46787362 96.76073837  0.          0.        ] \n",
      "  [  3.70121312  21.20228791 109.07121062   0.           0.        ]\n",
      "0 [83.47794319  0.          0.          0.          0.        ] \n",
      "  [3.96554804 0.         0.         0.         0.        ]\n",
      "0 [83.47794319 83.12174628  0.          0.          0.        ] \n",
      "  [ 3.96554804 34.26534152  0.          0.          0.        ]\n",
      "0 [83.47794319 83.12174628 83.33181112  0.          0.        ] \n",
      "  [  3.96554804  34.26534152 136.18114877   0.           0.        ]\n",
      "0 [93.22833244  0.          0.          0.          0.        ] \n",
      "  [0.66531301 0.         0.         0.         0.        ]\n",
      "0 [93.22833244 93.13934864  0.          0.          0.        ] \n",
      "  [ 0.66531301 23.10953927  0.          0.          0.        ]\n",
      "0 [93.22833244 93.13934864 93.13045026  0.          0.        ] \n",
      "  [ 0.66531301 23.10953927 75.58304524  0.          0.        ]\n",
      "0 [93.22833244 93.13934864 93.13045026 93.14824702  0.        ] \n",
      "  [ 0.66531301 23.10953927 75.58304524 42.78064895  0.        ]\n",
      "0 [88.75759911  0.          0.          0.          0.        ] \n",
      "  [3.97405291 0.         0.         0.         0.        ]\n",
      "0 [88.75759911 85.88064047  0.          0.          0.        ] \n",
      "  [ 3.97405291 45.82705212  0.          0.          0.        ]\n"
     ]
    }
   ],
   "source": [
    "while True:\n",
    "    accuracy0, time0 = complex_train(D=2, K=5, sample_number=1)\n",
    "    np.append(accuracy_25, accuracy0)\n",
    "    np.append(time_25, time0)\n",
    "    np.savetxt(\"accuracy_25.csv\", accuracy_25, delimiter=\",\")\n",
    "    np.savetxt(\"time_25.csv\", time_25, delimiter=\",\")\n",
    "\n",
    "    accuracy0, time0 = complex_train(D=2, K=8, sample_number=1)\n",
    "    np.append(accuracy_28, accuracy0)\n",
    "    np.append(time_28, time0)\n",
    "    np.savetxt(\"accuracy_28.csv\", accuracy_28, delimiter=\",\")\n",
    "    np.savetxt(\"time_28.csv\", time_28, delimiter=\",\")\n",
    "\n",
    "    accuracy0, time0 = complex_train(D=3, K=5, sample_number=1)\n",
    "    np.append(accuracy_35, accuracy0)\n",
    "    np.append(time_35, time0)\n",
    "    np.savetxt(\"accuracy_35.csv\", accuracy_35, delimiter=\",\")\n",
    "    np.savetxt(\"time_35.csv\", time_35, delimiter=\",\")\n",
    "\n",
    "    accuracy0, time0 = complex_train(D=3, K=8, sample_number=1)\n",
    "    np.append(accuracy_38, accuracy0)\n",
    "    np.append(time_38, time0)\n",
    "    np.savetxt(\"accuracy_38.csv\", accuracy_38, delimiter=\",\")\n",
    "    np.savetxt(\"time_38.csv\", time_38, delimiter=\",\")"
   ],
   "metadata": {
    "collapsed": false,
    "pycharm": {
     "name": "#%%\n",
     "is_executing": true
    }
   }
  }
 ],
 "metadata": {
  "kernelspec": {
   "display_name": "Python 3",
   "language": "python",
   "name": "python3"
  },
  "language_info": {
   "codemirror_mode": {
    "name": "ipython",
    "version": 2
   },
   "file_extension": ".py",
   "mimetype": "text/x-python",
   "name": "python",
   "nbconvert_exporter": "python",
   "pygments_lexer": "ipython2",
   "version": "2.7.6"
  }
 },
 "nbformat": 4,
 "nbformat_minor": 0
}