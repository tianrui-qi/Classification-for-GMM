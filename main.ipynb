{
 "cells": [
  {
   "cell_type": "code",
   "execution_count": 18,
   "outputs": [],
   "source": [
    "from Gaussian import Gaussian\n",
    "from EM import EM\n",
    "from NN import NN\n",
    "from Visual import Visual\n",
    "\n",
    "import os\n",
    "import numpy as np\n",
    "\n",
    "if not os.path.exists('special'): os.mkdir('special')\n",
    "\n",
    "D = 2     # dimension of sample data point\n",
    "K = 3     # number of Gaussian / classifications\n",
    "\n",
    "# parameters for generating sample\n",
    "# prior probability, mu, and covariance\n",
    "N_set = [np.random.randint(20000, 30000) for k in range(K-1)]\n",
    "N_set.insert(0, int(sum(N_set)) )    # background\n",
    "N_set = np.array(N_set)\n",
    "mu_set = np.array([[0.0, 0.0],\n",
    "                 [-1.0, 2.0],\n",
    "                 [1.0, -2.0]])\n",
    "cov_set = np.array([[[40., 0.0], [0.0, 40.]],\n",
    "                  [[1.0, 0.5], [0.5, 0.5]],\n",
    "                  [[0.5, 0.5], [0.5, 1.0]]])\n",
    "\n",
    "# parameters for neural networks\n",
    "neuron_1     = {0: K}\n",
    "neuron_2_10  = {0: 10, 1: K}\n",
    "neuron_2_100 = {0: 100, 1: K}\n",
    "act_func_1 = {0: NN.softmax}\n",
    "act_func_2 = {0: NN.relu, 1: NN.softmax}"
   ],
   "metadata": {
    "collapsed": false,
    "pycharm": {
     "name": "#%%\n"
    }
   }
  },
  {
   "cell_type": "code",
   "execution_count": null,
   "outputs": [],
   "source": [
    "# sample object\n",
    "# all sample will store in this sample object\n",
    "G = Gaussian(N_set, mu_set, cov_set)\n",
    "\n",
    "# initialize object visualization\n",
    "visual = Visual(G.point, G.label, mu_set, cov_set)\n",
    "visual.plot_sample().savefig(\"special/sample\")"
   ],
   "metadata": {
    "collapsed": false,
    "pycharm": {
     "name": "#%%\n",
     "is_executing": true
    }
   }
  },
  {
   "cell_type": "code",
   "execution_count": null,
   "outputs": [],
   "source": [
    "string = \"EM\"\n",
    "\n",
    "# train\n",
    "method = EM(K)\n",
    "method.train(G.train_point)\n",
    "method.order_correction(G.valid_point, G.valid_label)\n",
    "\n",
    "# result\n",
    "accuracy = method.test(G.test_point, G.test_label)[0] * 100\n",
    "time     = method.train_time\n",
    "print(\"%02.04f  %02.4f\" % (accuracy, time))\n",
    "\n",
    "# decision boundary\n",
    "visual.plot_DB(method).savefig(\"special/{}_DB\".format(string))"
   ],
   "metadata": {
    "collapsed": false,
    "pycharm": {
     "name": "#%%\n",
     "is_executing": true
    }
   }
  },
  {
   "cell_type": "code",
   "execution_count": null,
   "outputs": [],
   "source": [
    "string = \"Q(2-3)\"\n",
    "\n",
    "# train\n",
    "method = NN(D, neuron_1, act_func_1, NN_type=\"QNN\")\n",
    "method.train(G.train_point, G.train_label, G.valid_point, G.valid_label)\n",
    "\n",
    "# result\n",
    "accuracy    = method.test(G.test_point, G.test_label)[0] * 100\n",
    "time        = method.train_time\n",
    "\n",
    "print(\"%02.04f  %02.4f\" % (accuracy, time))\n",
    "\n",
    "# decision boundary\n",
    "visual.plot_DB(method).savefig(\"special/fig/{}_DB\".format(string))\n",
    "\n",
    "# train process\n",
    "np.savetxt(\"special/iteration_{}.csv\".format(string), method.iteration, delimiter=\",\")\n",
    "np.savetxt(\"special/valid_loss_{}.csv\".format(string), method.valid_loss, delimiter=\",\")"
   ],
   "metadata": {
    "collapsed": false,
    "pycharm": {
     "name": "#%%\n",
     "is_executing": true
    }
   }
  },
  {
   "cell_type": "code",
   "execution_count": null,
   "outputs": [],
   "source": [
    "string = \"C(2-3)\"\n",
    "\n",
    "# train\n",
    "method = NN(D, neuron_1, act_func_1, NN_type=\"LNN\")\n",
    "method.train(G.train_point, G.train_label, G.valid_point, G.valid_label)\n",
    "\n",
    "# result\n",
    "accuracy = method.test(G.test_point, G.test_label)[0] * 100\n",
    "time     = method.train_time\n",
    "print(\"%02.04f  %02.4f\" % (accuracy, time))\n",
    "\n",
    "# decision boundary\n",
    "visual.plot_DB(method).savefig(\"special/{}_DB\".format(string))\n",
    "\n",
    "# train process\n",
    "np.savetxt(\"special/iteration_{}.csv\".format(string), method.iteration, delimiter=\",\")\n",
    "np.savetxt(\"special/valid_loss_{}.csv\".format(string), method.valid_loss, delimiter=\",\")"
   ],
   "metadata": {
    "collapsed": false,
    "pycharm": {
     "name": "#%%\n",
     "is_executing": true
    }
   }
  },
  {
   "cell_type": "code",
   "execution_count": null,
   "outputs": [],
   "source": [
    "string = \"L10 \"\n",
    "\n",
    "max_accuracy = 100\n",
    "max_time = 0\n",
    "max_method = None\n",
    "\n",
    "for i in range(100):\n",
    "    # train\n",
    "    method = NN(D, neuron_2_10, act_func_2, NN_type=\"LNN\")\n",
    "    method.train(G.train_point, G.train_label, G.valid_point, G.valid_label)\n",
    "\n",
    "    # result\n",
    "    accuracy    = method.test(G.test_point, G.test_label)[0] * 100\n",
    "    time        = method.train_time\n",
    "\n",
    "    if max_accuracy > accuracy:\n",
    "        max_accuracy = accuracy\n",
    "        max_time = time\n",
    "        max_method = method\n",
    "print(\"%02.04f  %02.4f\" % (max_accuracy, max_time))\n",
    "\n",
    "# decision boundary\n",
    "visual.plot_DB(max_method).savefig(\"special/{}_DB\".format(string))\n",
    "\n",
    "# train process\n",
    "np.savetxt(\"special/iteration_{}.csv\".format(string), max_method.iteration, delimiter=\",\")\n",
    "np.savetxt(\"special/valid_loss_{}.csv\".format(string), max_method.valid_loss, delimiter=\",\")"
   ],
   "metadata": {
    "collapsed": false,
    "pycharm": {
     "name": "#%%\n",
     "is_executing": true
    }
   }
  },
  {
   "cell_type": "code",
   "execution_count": null,
   "outputs": [],
   "source": [
    "string = \"L100\"\n",
    "\n",
    "max_accuracy = 100\n",
    "max_time = 0\n",
    "max_method = None\n",
    "\n",
    "for i in range(100):\n",
    "    # train\n",
    "    method = NN(D, neuron_2_100, act_func_2, NN_type=\"LNN\")\n",
    "    method.train(G.train_point, G.train_label,\n",
    "                 G.valid_point, G.valid_label, stop_point=200)\n",
    "\n",
    "    # result\n",
    "    accuracy    = method.test(G.test_point, G.test_label)[0] * 100\n",
    "    time        = method.train_time\n",
    "\n",
    "    if max_accuracy > accuracy:\n",
    "        max_accuracy = accuracy\n",
    "        max_time = time\n",
    "        max_method = method\n",
    "\n",
    "print(\"%02.04f  %02.4f\" % (max_accuracy, max_time))\n",
    "\n",
    "# decision boundary\n",
    "visual.plot_DB(max_method).savefig(\"special/{}_DB\".format(string))\n",
    "\n",
    "# train process\n",
    "np.savetxt(\"special/iteration_{}.csv\".format(string), max_method.iteration, delimiter=\",\")\n",
    "np.savetxt(\"special/valid_loss_{}.csv\".format(string), max_method.valid_loss, delimiter=\",\")\n"
   ],
   "metadata": {
    "collapsed": false,
    "pycharm": {
     "name": "#%%\n",
     "is_executing": true
    }
   }
  }
 ],
 "metadata": {
  "kernelspec": {
   "display_name": "Python 3",
   "language": "python",
   "name": "python3"
  },
  "language_info": {
   "codemirror_mode": {
    "name": "ipython",
    "version": 2
   },
   "file_extension": ".py",
   "mimetype": "text/x-python",
   "name": "python",
   "nbconvert_exporter": "python",
   "pygments_lexer": "ipython2",
   "version": "2.7.6"
  }
 },
 "nbformat": 4,
 "nbformat_minor": 0
}