{
 "cells": [
  {
   "cell_type": "code",
   "execution_count": 1,
   "outputs": [],
   "source": [
    "from EM import EM\n",
    "from NN import NN\n",
    "import numpy as np\n",
    "\n",
    "# basic parameters\n",
    "D = 16\n",
    "K = 10\n",
    "\n",
    "# parameters for neural networks\n",
    "neuron_1     = {0: K}\n",
    "neuron_2_10  = {0: 10, 1: K}\n",
    "neuron_2_100 = {0: 100, 1: K}\n",
    "act_func_1 = {0: NN.softmax}\n",
    "act_func_2 = {0: NN.relu, 1: NN.softmax}\n",
    "\n",
    "def set_sample(D, K):\n",
    "    # read in whole train set\n",
    "    train = np.loadtxt(\"dataset/pendigits.tra\", delimiter=\",\")\n",
    "    np.random.shuffle(train)\n",
    "    point = np.array(train[:, :D], dtype=float)\n",
    "    label = np.zeros([len(train), K])\n",
    "    for i in range(len(train)): label[i][int(train[i][D])] = 1\n",
    "\n",
    "    # split whole train set into train and validation set\n",
    "    n_1 = int(0.7 * len(train))\n",
    "    train_point = np.array([point[i] for i in range(n_1)])\n",
    "    train_label = np.array([label[i] for i in range(n_1)])\n",
    "    valid_point = np.array([point[i] for i in range(n_1, len(train))])\n",
    "    valid_label = np.array([label[i] for i in range(n_1, len(train))])\n",
    "\n",
    "    # read in test sample\n",
    "    test = np.loadtxt(\"dataset/pendigits.tes\", delimiter=\",\")\n",
    "    test_point = np.array(test[:, :D], dtype=float)\n",
    "    test_label = np.zeros([len(test), K])\n",
    "    for i in range(len(test)): test_label[i][int(test[i][D])] = 1\n",
    "\n",
    "    return {\n",
    "        \"train_point\": train_point, \"train_label\": train_label,\n",
    "        \"valid_point\": valid_point, \"valid_label\": valid_label,\n",
    "        \"test_point\": test_point, \"test_label\": test_label\n",
    "    }"
   ],
   "metadata": {
    "collapsed": false,
    "pycharm": {
     "name": "#%%\n"
    }
   }
  },
  {
   "cell_type": "markdown",
   "source": [
    "Conventional Neural Network (2-3)"
   ],
   "metadata": {
    "collapsed": false,
    "pycharm": {
     "name": "#%% md\n"
    }
   }
  },
  {
   "cell_type": "code",
   "execution_count": 2,
   "outputs": [
    {
     "name": "stdout",
     "output_type": "stream",
     "text": [
      "accuracy: 90.01 \\pm 1.54\n",
      "time    : 3.3 \\pm 2.7\n"
     ]
    }
   ],
   "source": [
    "accuracy_set = []\n",
    "time_set = []\n",
    "\n",
    "for i in range(10):\n",
    "    sample = set_sample(D, K)\n",
    "\n",
    "    method = NN(D, neuron_1, act_func_1, NN_type=\"CNN\")\n",
    "    method.train(sample[\"train_point\"], sample[\"train_label\"],\n",
    "                 sample[\"valid_point\"], sample[\"valid_label\"], step_size=500)\n",
    "\n",
    "    accuracy = method.test(sample[\"test_point\"], sample[\"test_label\"])[0] * 100\n",
    "    time     = method.train_time\n",
    "\n",
    "    accuracy_set.append(accuracy)\n",
    "    time_set.append(time)\n",
    "mean, variance = np.mean(accuracy_set), np.std(accuracy_set)\n",
    "print(\"accuracy: %2.2f \\pm %2.2f\" % (mean, variance))\n",
    "mean, variance = np.mean(time_set), np.std(time_set)\n",
    "print(\"time    : %2.1f \\pm %2.1f\" % (mean, variance))"
   ],
   "metadata": {
    "collapsed": false,
    "pycharm": {
     "name": "#%%\n"
    }
   }
  },
  {
   "cell_type": "markdown",
   "source": [
    "Conventional Neural Network (2-10-3)"
   ],
   "metadata": {
    "collapsed": false,
    "pycharm": {
     "name": "#%% md\n"
    }
   }
  },
  {
   "cell_type": "code",
   "execution_count": 3,
   "outputs": [
    {
     "name": "stdout",
     "output_type": "stream",
     "text": [
      "accuracy: 93.23 \\pm 2.39\n",
      "time    : 4.0 \\pm 1.9\n"
     ]
    }
   ],
   "source": [
    "accuracy_set = []\n",
    "time_set = []\n",
    "\n",
    "for i in range(10):\n",
    "    sample = set_sample(D, K)\n",
    "\n",
    "    method = NN(D, neuron_2_10, act_func_2, NN_type=\"CNN\")\n",
    "    method.train(sample[\"train_point\"], sample[\"train_label\"],\n",
    "                 sample[\"valid_point\"], sample[\"valid_label\"], step_size=500)\n",
    "\n",
    "    accuracy = method.test(sample[\"test_point\"], sample[\"test_label\"])[0] * 100\n",
    "    time     = method.train_time\n",
    "\n",
    "    accuracy_set.append(accuracy)\n",
    "    time_set.append(time)\n",
    "mean, variance = np.mean(accuracy_set), np.std(accuracy_set)\n",
    "print(\"accuracy: %2.2f \\pm %2.2f\" % (mean, variance))\n",
    "mean, variance = np.mean(time_set), np.std(time_set)\n",
    "print(\"time    : %2.1f \\pm %2.1f\" % (mean, variance))"
   ],
   "metadata": {
    "collapsed": false,
    "pycharm": {
     "name": "#%%\n"
    }
   }
  },
  {
   "cell_type": "markdown",
   "source": [
    "Conventional Neural Network (2-100-3)"
   ],
   "metadata": {
    "collapsed": false,
    "pycharm": {
     "name": "#%% md\n"
    }
   }
  },
  {
   "cell_type": "code",
   "execution_count": 4,
   "outputs": [
    {
     "name": "stdout",
     "output_type": "stream",
     "text": [
      "accuracy: 96.66 \\pm 0.29\n",
      "time    : 14.8 \\pm 27.4\n"
     ]
    }
   ],
   "source": [
    "accuracy_set = []\n",
    "time_set = []\n",
    "\n",
    "for i in range(10):\n",
    "    sample = set_sample(D, K)\n",
    "\n",
    "    method = NN(D, neuron_2_100, act_func_2, NN_type=\"CNN\")\n",
    "    method.train(sample[\"train_point\"], sample[\"train_label\"],\n",
    "                 sample[\"valid_point\"], sample[\"valid_label\"], step_size=500)\n",
    "\n",
    "    accuracy = method.test(sample[\"test_point\"], sample[\"test_label\"])[0] * 100\n",
    "    time     = method.train_time\n",
    "\n",
    "    accuracy_set.append(accuracy)\n",
    "    time_set.append(time)\n",
    "mean, variance = np.mean(accuracy_set), np.std(accuracy_set)\n",
    "print(\"accuracy: %2.2f \\pm %2.2f\" % (mean, variance))\n",
    "mean, variance = np.mean(time_set), np.std(time_set)\n",
    "print(\"time    : %2.1f \\pm %2.1f\" % (mean, variance))"
   ],
   "metadata": {
    "collapsed": false,
    "pycharm": {
     "name": "#%%\n"
    }
   }
  },
  {
   "cell_type": "markdown",
   "source": [
    "Quadratic Neural Network (2-3)"
   ],
   "metadata": {
    "collapsed": false,
    "pycharm": {
     "name": "#%% md\n"
    }
   }
  },
  {
   "cell_type": "code",
   "execution_count": 5,
   "outputs": [
    {
     "name": "stdout",
     "output_type": "stream",
     "text": [
      "accuracy: 97.04 \\pm 0.30\n",
      "time    : 6.1 \\pm 0.2\n"
     ]
    }
   ],
   "source": [
    "accuracy_set = []\n",
    "time_set = []\n",
    "\n",
    "for i in range(10):\n",
    "    sample = set_sample(D, K)\n",
    "\n",
    "    method = NN(D, neuron_1, act_func_1, NN_type=\"QNN\")\n",
    "    method.train(sample[\"train_point\"], sample[\"train_label\"],\n",
    "                 sample[\"valid_point\"], sample[\"valid_label\"], step_size=500)\n",
    "\n",
    "    accuracy = method.test(sample[\"test_point\"], sample[\"test_label\"])[0] * 100\n",
    "    time     = method.train_time\n",
    "\n",
    "    accuracy_set.append(accuracy)\n",
    "    time_set.append(time)\n",
    "mean, variance = np.mean(accuracy_set), np.std(accuracy_set)\n",
    "print(\"accuracy: %2.2f \\pm %2.2f\" % (mean, variance))\n",
    "mean, variance = np.mean(time_set), np.std(time_set)\n",
    "print(\"time    : %2.1f \\pm %2.1f\" % (mean, variance))"
   ],
   "metadata": {
    "collapsed": false,
    "pycharm": {
     "name": "#%%\n"
    }
   }
  }
 ],
 "metadata": {
  "kernelspec": {
   "display_name": "Python 3 (ipykernel)",
   "language": "python",
   "name": "python3"
  },
  "language_info": {
   "codemirror_mode": {
    "name": "ipython",
    "version": 3
   },
   "file_extension": ".py",
   "mimetype": "text/x-python",
   "name": "python",
   "nbconvert_exporter": "python",
   "pygments_lexer": "ipython3",
   "version": "3.9.12"
  }
 },
 "nbformat": 4,
 "nbformat_minor": 5
}