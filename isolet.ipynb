{
 "cells": [
  {
   "cell_type": "code",
   "execution_count": 1,
   "outputs": [],
   "source": [
    "from EM import EM\n",
    "from NN import NN\n",
    "import numpy as np\n",
    "import pandas as pd\n",
    "\n",
    "def set_sample(D, K):\n",
    "    # read in the whole data set with point and label without splitting\n",
    "    pd.options.mode.chained_assignment = None\n",
    "    df = pd.read_csv('dataset/yeast.data', delimiter=\" \")\n",
    "    for i in range(len(df)):\n",
    "        if df[\"Class\"][i] == \"CYT\": df[\"Class\"][i] = 0\n",
    "        if df[\"Class\"][i] == \"NUC\": df[\"Class\"][i] = 1\n",
    "        if df[\"Class\"][i] == \"MIT\": df[\"Class\"][i] = 2\n",
    "        if df[\"Class\"][i] == \"ME3\": df[\"Class\"][i] = 3\n",
    "        if df[\"Class\"][i] == \"ME2\": df[\"Class\"][i] = 4\n",
    "        if df[\"Class\"][i] == \"ME1\": df[\"Class\"][i] = 5\n",
    "        if df[\"Class\"][i] == \"EXC\": df[\"Class\"][i] = 6\n",
    "        if df[\"Class\"][i] == \"VAC\": df[\"Class\"][i] = 7\n",
    "        if df[\"Class\"][i] == \"POX\": df[\"Class\"][i] = 8\n",
    "        if df[\"Class\"][i] == \"ERL\": df[\"Class\"][i] = 9\n",
    "    data = df.to_numpy()\n",
    "\n",
    "    # split the data into point and label\n",
    "    np.random.shuffle(data)\n",
    "    point = np.array(data[:, :D], dtype=float)\n",
    "    label = np.zeros([len(data), K])\n",
    "    for i in range(len(data)): label[i][int(data[i][D])] = 1\n",
    "\n",
    "    # split whole train set into train and validation set\n",
    "    n_1 = int(0.5 * len(data))\n",
    "    n_2 = int(0.7 * len(data))\n",
    "    return {\n",
    "        \"train_point\": np.array([point[i] for i in range(n_1)]),\n",
    "        \"train_label\": np.array([label[i] for i in range(n_1)]),\n",
    "        \"valid_point\": np.array([point[i] for i in range(n_1, n_2)]),\n",
    "        \"valid_label\": np.array([label[i] for i in range(n_1, n_2)]),\n",
    "        \"test_point\": np.array([point[i] for i in range(n_2, len(data))]),\n",
    "        \"test_label\": np.array([label[i] for i in range(n_2, len(data))])\n",
    "    }\n",
    "\n",
    "    return sample"
   ],
   "metadata": {
    "collapsed": false,
    "pycharm": {
     "name": "#%%\n"
    }
   }
  },
  {
   "cell_type": "code",
   "execution_count": 2,
   "outputs": [],
   "source": [
    "# basic parameters\n",
    "D = 8\n",
    "K = 10\n",
    "\n",
    "# parameters for neural networks\n",
    "neuron_1     = {0: K}\n",
    "neuron_2_10  = {0: 10, 1: K}\n",
    "neuron_2_100 = {0: 100, 1: K}\n",
    "act_func_1 = {0: NN.softmax}\n",
    "act_func_2 = {0: NN.relu, 1: NN.softmax}"
   ],
   "metadata": {
    "collapsed": false,
    "pycharm": {
     "name": "#%%\n"
    }
   }
  },
  {
   "cell_type": "code",
   "execution_count": null,
   "outputs": [],
   "source": [
    "accuracy_set = []\n",
    "time_set = []\n",
    "\n",
    "for i in range(20):\n",
    "    sample = set_sample(D, K)\n",
    "\n",
    "    max_accuracy = 0\n",
    "    max_time = 0\n",
    "\n",
    "    for j in range(10):\n",
    "        method = EM(K)\n",
    "        method.train(sample[\"train_point\"])\n",
    "        method.order_correction(sample[\"valid_point\"], sample[\"valid_label\"])\n",
    "\n",
    "        accuracy = method.test(sample[\"test_point\"], sample[\"test_label\"])[0] * 100\n",
    "        time     = method.train_time\n",
    "        if accuracy > max_accuracy:\n",
    "            max_accuracy = accuracy\n",
    "            max_time = time\n",
    "    accuracy_set.append(max_accuracy)\n",
    "    time_set.append(max_time)\n",
    "mean, variance = np.mean(accuracy_set), np.std(accuracy_set)\n",
    "print(\"accuracy:\\t%2.2f\\t+-\\t%2.2f\" % (mean, variance))\n",
    "mean, variance = np.mean(time_set), np.std(time_set)\n",
    "print(\"time    :\\t%2.2f\\t+-\\t%2.2f\" % (mean, variance))"
   ],
   "metadata": {
    "collapsed": false,
    "pycharm": {
     "name": "#%%\n"
    }
   }
  },
  {
   "cell_type": "code",
   "execution_count": null,
   "outputs": [],
   "source": [
    "accuracy_set = []\n",
    "time_set = []\n",
    "\n",
    "for i in range(20):\n",
    "    sample = set_sample(D, K)\n",
    "\n",
    "    max_accuracy = 0\n",
    "    max_time = 0\n",
    "\n",
    "    for j in range(10):\n",
    "        method = NN(D, neuron_1, act_func_1, NN_type=\"QNN\")\n",
    "        method.train(sample[\"train_point\"], sample[\"train_label\"],\n",
    "                     sample[\"valid_point\"], sample[\"valid_label\"], step_size=500)\n",
    "\n",
    "        accuracy = method.test(sample[\"test_point\"], sample[\"test_label\"])[0] * 100\n",
    "        time     = method.train_time\n",
    "        if accuracy > max_accuracy:\n",
    "            max_accuracy = accuracy\n",
    "            max_time = time\n",
    "    accuracy_set.append(max_accuracy)\n",
    "    time_set.append(max_time)\n",
    "mean, variance = np.mean(accuracy_set), np.std(accuracy_set)\n",
    "print(\"accuracy:\\t%2.2f\\t+-\\t%2.2f\" % (mean, variance))\n",
    "mean, variance = np.mean(time_set), np.std(time_set)\n",
    "print(\"time    :\\t%2.2f\\t+-\\t%2.2f\" % (mean, variance))"
   ],
   "metadata": {
    "collapsed": false,
    "pycharm": {
     "name": "#%%\n"
    }
   }
  },
  {
   "cell_type": "code",
   "execution_count": null,
   "outputs": [],
   "source": [
    "accuracy_set = []\n",
    "time_set = []\n",
    "\n",
    "for i in range(20):\n",
    "    sample = set_sample(D, K)\n",
    "\n",
    "    max_accuracy = 0\n",
    "    max_time = 0\n",
    "\n",
    "    for j in range(10):\n",
    "        method = NN(D, neuron_2_100, act_func_2, NN_type=\"CNN\")\n",
    "        method.train(sample[\"train_point\"], sample[\"train_label\"],\n",
    "                     sample[\"valid_point\"], sample[\"valid_label\"], step_size=500)\n",
    "\n",
    "        accuracy = method.test(sample[\"test_point\"], sample[\"test_label\"])[0] * 100\n",
    "        time     = method.train_time\n",
    "        if accuracy > max_accuracy:\n",
    "            max_accuracy = accuracy\n",
    "            max_time = time\n",
    "    accuracy_set.append(max_accuracy)\n",
    "    time_set.append(max_time)\n",
    "mean, variance = np.mean(accuracy_set), np.std(accuracy_set)\n",
    "print(\"accuracy:\\t%2.2f\\t+-\\t%2.2f\" % (mean, variance))\n",
    "mean, variance = np.mean(time_set), np.std(time_set)\n",
    "print(\"time    :\\t%2.2f\\t+-\\t%2.2f\" % (mean, variance))"
   ],
   "metadata": {
    "collapsed": false,
    "pycharm": {
     "name": "#%%\n"
    }
   }
  },
  {
   "cell_type": "code",
   "execution_count": null,
   "outputs": [],
   "source": [
    "accuracy_set = []\n",
    "time_set = []\n",
    "\n",
    "for i in range(20):\n",
    "    sample = set_sample(D, K)\n",
    "\n",
    "    max_accuracy = 0\n",
    "    max_time = 0\n",
    "\n",
    "    for j in range(10):\n",
    "        method = NN(D, neuron_2_10, act_func_2, NN_type=\"CNN\")\n",
    "        method.train(sample[\"train_point\"], sample[\"train_label\"],\n",
    "                     sample[\"valid_point\"], sample[\"valid_label\"], step_size=500)\n",
    "\n",
    "        accuracy = method.test(sample[\"test_point\"], sample[\"test_label\"])[0] * 100\n",
    "        time     = method.train_time\n",
    "        if accuracy > max_accuracy:\n",
    "            max_accuracy = accuracy\n",
    "            max_time = time\n",
    "    accuracy_set.append(max_accuracy)\n",
    "    time_set.append(max_time)\n",
    "mean, variance = np.mean(accuracy_set), np.std(accuracy_set)\n",
    "print(\"accuracy:\\t%2.2f\\t+-\\t%2.2f\" % (mean, variance))\n",
    "mean, variance = np.mean(time_set), np.std(time_set)\n",
    "print(\"time    :\\t%2.2f\\t+-\\t%2.2f\" % (mean, variance))"
   ],
   "metadata": {
    "collapsed": false,
    "pycharm": {
     "name": "#%%\n"
    }
   }
  },
  {
   "cell_type": "code",
   "execution_count": null,
   "outputs": [],
   "source": [
    "accuracy_set = []\n",
    "time_set = []\n",
    "\n",
    "for i in range(20):\n",
    "    sample = set_sample(D, K)\n",
    "\n",
    "    max_accuracy = 0\n",
    "    max_time = 0\n",
    "\n",
    "    for j in range(10):\n",
    "        method = NN(D, neuron_1, act_func_1, NN_type=\"CNN\")\n",
    "        method.train(sample[\"train_point\"], sample[\"train_label\"],\n",
    "                     sample[\"valid_point\"], sample[\"valid_label\"], step_size=500)\n",
    "\n",
    "        accuracy = method.test(sample[\"test_point\"], sample[\"test_label\"])[0] * 100\n",
    "        time     = method.train_time\n",
    "        if accuracy > max_accuracy:\n",
    "            max_accuracy = accuracy\n",
    "            max_time = time\n",
    "    accuracy_set.append(max_accuracy)\n",
    "    time_set.append(max_time)\n",
    "mean, variance = np.mean(accuracy_set), np.std(accuracy_set)\n",
    "print(\"accuracy:\\t%2.2f\\t+-\\t%2.2f\" % (mean, variance))\n",
    "mean, variance = np.mean(time_set), np.std(time_set)\n",
    "print(\"time    :\\t%2.2f\\t+-\\t%2.2f\" % (mean, variance))"
   ],
   "metadata": {
    "collapsed": false,
    "pycharm": {
     "name": "#%%\n"
    }
   }
  }
 ],
 "metadata": {
  "kernelspec": {
   "display_name": "Python 3 (ipykernel)",
   "language": "python",
   "name": "python3"
  },
  "language_info": {
   "codemirror_mode": {
    "name": "ipython",
    "version": 3
   },
   "file_extension": ".py",
   "mimetype": "text/x-python",
   "name": "python",
   "nbconvert_exporter": "python",
   "pygments_lexer": "ipython3",
   "version": "3.9.12"
  }
 },
 "nbformat": 4,
 "nbformat_minor": 5
}